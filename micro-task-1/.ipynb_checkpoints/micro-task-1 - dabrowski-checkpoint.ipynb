{
 "cells": [
  {
   "cell_type": "markdown",
   "metadata": {},
   "source": [
    "# The below code is proposed as an exemplary solution for the Microtask - 1 \n",
    "## The program was built based on GrimoireLab Tutorial  \n",
    "### developed and tested by Jacek Dąbrowski"
   ]
  },
  {
   "cell_type": "code",
   "execution_count": 29,
   "metadata": {},
   "outputs": [],
   "source": [
    "# Importing modules and libraries\n",
    "from datetime import datetime\n",
    "from elasticsearch import Elasticsearch\n",
    "from elasticsearch_dsl import Search\n",
    "from pprint import pprint\n",
    "import pandas as pd\n",
    "import subprocess"
   ]
  },
  {
   "cell_type": "code",
   "execution_count": 4,
   "metadata": {},
   "outputs": [],
   "source": [
    "# Instate ES and indicate repot to be used for further analysis, perceval.git selected for commit analysis\n",
    "es = Elasticsearch('http://localhost:9200')\n",
    "git_repo = 'https://github.com/grimoirelab/perceval.git'"
   ]
  },
  {
   "cell_type": "code",
   "execution_count": null,
   "metadata": {},
   "outputs": [],
   "source": [
    "# Running the p2o.py to extract git_data and populate index and enriched_index\n",
    "subprocess.run(['p2o.py', '--enrich', '--index', 'git_raw',\n",
    "      '--index-enrich', 'git', '-e', 'http://localhost:9200',\n",
    "      '--no_inc', '--debug', 'git', git_repo])"
   ]
  },
  {
   "cell_type": "code",
   "execution_count": 5,
   "metadata": {},
   "outputs": [],
   "source": [
    "# Building a query definition\n",
    "# Building buckets of commits grouped by author name and aggregated as first commit for each of these authorse\n",
    "s = Search(using=es, index='git')\n",
    "s.aggs.bucket('by_authors', 'terms', field='author_name', size=10000).metric('first_commit', 'min', field='author_date')\n",
    "s = s.sort(\"author_date\")"
   ]
  },
  {
   "cell_type": "code",
   "execution_count": 6,
   "metadata": {},
   "outputs": [],
   "source": [
    "# Execute the query\n",
    "result = s.execute()"
   ]
  },
  {
   "cell_type": "code",
   "execution_count": 7,
   "metadata": {},
   "outputs": [],
   "source": [
    "# Selecting fields we are interested in from dictionary, meaning authour, first commit and date with time\n",
    "buckets_result = result['aggregations']['by_authors']['buckets']\n",
    "# Converting query results to a list\n",
    "buckets = []\n",
    "for bucket in buckets_result:\n",
    "    first_commit = bucket['first_commit']['value']/1000\n",
    "    buckets.append(\n",
    "        {'first_commit': datetime.utcfromtimestamp(first_commit),\n",
    "        'author': bucket['key'],\n",
    "        'number_of_commits' : bucket['doc_count']}\n",
    "        )"
   ]
  },
  {
   "cell_type": "code",
   "execution_count": 8,
   "metadata": {},
   "outputs": [],
   "source": [
    "# Converting a list with results to dataframe - two dimensional table\n",
    "authors = pd.DataFrame.from_records(buckets)\n",
    "authors.sort_values(by='first_commit', ascending=False, inplace=True)"
   ]
  },
  {
   "cell_type": "code",
   "execution_count": 9,
   "metadata": {
    "scrolled": true
   },
   "outputs": [
    {
     "name": "stdout",
     "output_type": "stream",
     "text": [
      "                            author  number_of_commits\n",
      "7           Miguel Ángel Fernández                  3\n",
      "12                  Israel Herraiz                  1\n",
      "16                           david                  1\n",
      "11            David Pose Fernández                  1\n",
      "10                     David Esler                  1\n",
      "9                          valerio                  2\n",
      "1                Valerio Cosentino                142\n",
      "5                valerio cosentino                  6\n",
      "15                   Stephan Barth                  1\n",
      "14                 Luis Cañas Díaz                  1\n",
      "6                             quan                  5\n",
      "8                         camillem                  2\n",
      "13  J. Manrique Lopez de la Fuente                  1\n",
      "2                   Alberto Martín                 51\n",
      "4       Jesus M. Gonzalez-Barahona                 18\n",
      "3              Alvaro del Castillo                 45\n",
      "0                  Santiago Dueñas                704\n"
     ]
    }
   ],
   "source": [
    "# Create table with authors and their number of commits / remove data column\n",
    "authors_commits = authors.loc[:,['author', 'number_of_commits']]\n",
    "pprint(authors_commits)"
   ]
  },
  {
   "cell_type": "code",
   "execution_count": 10,
   "metadata": {},
   "outputs": [],
   "source": [
    "# Calculating the number of new commiters each given months\n",
    "by_month = authors['first_commit'].groupby([authors.first_commit.dt.year, authors.first_commit.dt.month]).agg('count')"
   ]
  },
  {
   "cell_type": "code",
   "execution_count": 11,
   "metadata": {},
   "outputs": [
    {
     "name": "stdout",
     "output_type": "stream",
     "text": [
      "first_commit  first_commit\n",
      "2015          8               1\n",
      "              12              2\n",
      "2016          2               1\n",
      "              3               2\n",
      "              4               1\n",
      "              9               1\n",
      "2017          1               1\n",
      "              9               2\n",
      "              10              2\n",
      "              11              1\n",
      "              12              1\n",
      "2018          1               1\n",
      "              2               1\n",
      "Name: first_commit, dtype: int64\n"
     ]
    }
   ],
   "source": [
    "# The first columnt denotes year, months, and finally number of commits \n",
    "pprint(by_month)"
   ]
  },
  {
   "cell_type": "code",
   "execution_count": 39,
   "metadata": {},
   "outputs": [],
   "source": [
    "# Save results to CSV files\n",
    "by_month.to_csv('authors_per_month.csv')\n",
    "authors.to_csv('authors_first.csv', columns=['first_commit', 'author'],index=False)"
   ]
  }
 ],
 "metadata": {
  "kernelspec": {
   "display_name": "grimoirelab",
   "language": "python",
   "name": "grimoirelab"
  },
  "language_info": {
   "codemirror_mode": {
    "name": "ipython",
    "version": 3
   },
   "file_extension": ".py",
   "mimetype": "text/x-python",
   "name": "python",
   "nbconvert_exporter": "python",
   "pygments_lexer": "ipython3",
   "version": "3.6.3"
  }
 },
 "nbformat": 4,
 "nbformat_minor": 2
}
